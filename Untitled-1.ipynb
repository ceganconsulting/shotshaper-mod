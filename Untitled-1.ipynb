{
 "cells": [
  {
   "cell_type": "code",
   "execution_count": 2,
   "metadata": {},
   "outputs": [],
   "source": [
    "from shotshaper.projectile import DiscGolfDisc\n",
    "import matplotlib.pyplot as pl\n",
    "from mpl_toolkits import mplot3d\n",
    "from mpl_toolkits.mplot3d import Axes3D\n",
    "from matplotlib.widgets import Slider, Button, TextBox\n",
    "import numpy as np\n",
    "from shotshaper.transforms import T_21\n",
    "from mpl_toolkits.mplot3d.art3d import Poly3DCollection\n",
    "\n",
    "def disc_vertices(attitude):\n",
    "    a,nt = attitude.shape\n",
    "    nvert = 40\n",
    "    r = np.linspace(0, 2*np.pi, nvert)\n",
    "    xd = np.cos(r)\n",
    "    yd = np.sin(r)\n",
    "    zd = np.zeros(nvert)\n",
    "    discoutline = np.vstack((xd, yd, zd)).T\n",
    "    p=0\n",
    "    while p < nvert:\n",
    "        discoutline[p] = np.matmul(T_21(attitude[:,0]), discoutline[p]) # Convert outline from disc coords to ground coords\n",
    "        p += 1\n",
    "    d = [list(zip(discoutline[:,0],discoutline[:,1],discoutline[:,2]))]\n",
    "    \n",
    "    return d\n",
    "\n",
    "name = 'cd5'\n",
    "mass = 0.175\n",
    "\n",
    "d = DiscGolfDisc(name, mass=mass)\n",
    "speed = 24\n",
    "omega = d.empirical_spin(speed)\n",
    "z0 = 1.3\n",
    "pos = np.array((0,0,z0))\n",
    "pitch = 10\n",
    "nose = 0.0\n",
    "roll = 15.0  \n",
    "yaw = 0\n",
    "adjust_axes = False\n",
    "     \n",
    "s = d.shoot(speed=speed, omega=omega, pitch=pitch, position=pos, nose_angle=nose, roll_angle=roll,yaw=yaw)\n",
    "\n",
    "x,y,z = s.position"
   ]
  }
 ],
 "metadata": {
  "kernelspec": {
   "display_name": "Python 3",
   "language": "python",
   "name": "python3"
  },
  "language_info": {
   "codemirror_mode": {
    "name": "ipython",
    "version": 3
   },
   "file_extension": ".py",
   "mimetype": "text/x-python",
   "name": "python",
   "nbconvert_exporter": "python",
   "pygments_lexer": "ipython3",
   "version": "3.11.7"
  }
 },
 "nbformat": 4,
 "nbformat_minor": 2
}
